{
 "cells": [
  {
   "cell_type": "code",
   "execution_count": 3,
   "metadata": {},
   "outputs": [],
   "source": [
    "import smartsheet\n",
    "from urllib.request import urlretrieve\n",
    "import logging\n",
    "import os\n",
    "import shutil\n",
    "import fnmatch"
   ]
  },
  {
   "cell_type": "code",
   "execution_count": 5,
   "metadata": {},
   "outputs": [
    {
     "ename": "Exception",
     "evalue": "Bank route does not contain any PDF files.",
     "output_type": "error",
     "traceback": [
      "\u001b[0;31m---------------------------------------------------------------------------\u001b[0m",
      "\u001b[0;31mException\u001b[0m                                 Traceback (most recent call last)",
      "Cell \u001b[0;32mIn[5], line 19\u001b[0m\n\u001b[1;32m     16\u001b[0m receipt_pdf_files \u001b[38;5;241m=\u001b[39m [file \u001b[38;5;28;01mfor\u001b[39;00m file \u001b[38;5;129;01min\u001b[39;00m os\u001b[38;5;241m.\u001b[39mlistdir(bank_route) \u001b[38;5;28;01mif\u001b[39;00m file\u001b[38;5;241m.\u001b[39mendswith(\u001b[38;5;124m\"\u001b[39m\u001b[38;5;124m.pdf\u001b[39m\u001b[38;5;124m\"\u001b[39m)]\n\u001b[1;32m     18\u001b[0m \u001b[38;5;28;01mif\u001b[39;00m \u001b[38;5;28mlen\u001b[39m(receipt_pdf_files) \u001b[38;5;241m==\u001b[39m \u001b[38;5;241m0\u001b[39m:\n\u001b[0;32m---> 19\u001b[0m     \u001b[38;5;28;01mraise\u001b[39;00m \u001b[38;5;167;01mException\u001b[39;00m(\u001b[38;5;124m\"\u001b[39m\u001b[38;5;124mBank route does not contain any PDF files.\u001b[39m\u001b[38;5;124m\"\u001b[39m)\n",
      "\u001b[0;31mException\u001b[0m: Bank route does not contain any PDF files."
     ]
    }
   ],
   "source": [
    "sheet_id = 1017210633932676\n",
    "\n",
    "merged_route = \"tmp/merged\"\n",
    "bank_route = \"tmp/bank\"\n",
    "temp_route = \"tmp/temp\"\n",
    "final_route = \"tmp/final\"\n",
    "xlsx_name = \"tmp/NAV Financial Report Import transactions_expenses_JRSHU_filename.xlsx\"\n",
    "\n",
    "cwd = os.getcwd()\n",
    "\n",
    "# Ensure directories exist\n",
    "os.makedirs(merged_route, exist_ok=True)\n",
    "os.makedirs(bank_route, exist_ok=True)\n",
    "os.makedirs(temp_route, exist_ok=True)\n",
    "os.makedirs(final_route, exist_ok=True)\n",
    "\n",
    "# Check if bank route contains PDF files\n",
    "receipt_pdf_files = [file for file in os.listdir(bank_route) if file.endswith(\".pdf\")]\n",
    "\n",
    "if len(receipt_pdf_files) == 0:\n",
    "    raise Exception(\"Bank route does not contain any PDF files.\")\n",
    "\n",
    "class Attachment:\n",
    "    def __init__(\n",
    "        self,\n",
    "        final_name: str,\n",
    "        original_name: str,\n",
    "        attachment: smartsheet.models.Attachment,\n",
    "        download_url: str = None,\n",
    "    ):\n",
    "        self.final_name = final_name\n",
    "        self.original_name = original_name\n",
    "        self.attachment = attachment\n",
    "        self.download_url = download_url"
   ]
  },
  {
   "cell_type": "code",
   "execution_count": 19,
   "metadata": {},
   "outputs": [],
   "source": [
    "import smartsheet.models\n",
    "import smartsheet.sheets\n",
    "\n",
    "column_map = {}\n",
    "\n",
    "\n",
    "# Helper function to find cell in a row\n",
    "def get_cell_by_column_name(\n",
    "    row: smartsheet.models.Row, column_name: str\n",
    ") -> smartsheet.models.Cell:\n",
    "    column_id = column_map[column_name]\n",
    "    return row.get_column(column_id)\n",
    "\n",
    "smart = smartsheet.Smartsheet()\n",
    "# Make sure we don't miss any error\n",
    "smart.errors_as_exceptions(True)\n",
    "\n",
    "# Log all calls\n",
    "logging.basicConfig(filename=\"rwsheet.log\", level=logging.INFO)\n",
    "\n",
    "# Load entire sheet\n",
    "sheet: smartsheet.models.sheet.Sheet = smart.Sheets.get_sheet(\n",
    "    sheet_id=\"1017210633932676\", include=\"attachments\"\n",
    ")\n",
    "\n",
    "# Build column map for later reference - translates column names to column id\n",
    "for column in sheet.columns:\n",
    "    column_map[column.title] = column.id"
   ]
  },
  {
   "cell_type": "code",
   "execution_count": 21,
   "metadata": {},
   "outputs": [
    {
     "name": "stdout",
     "output_type": "stream",
     "text": [
      "Receipt \"258\" not found for OP 011\n",
      "Receipt \"271\" not found for OP 036\n",
      "Receipt \"326\" not found for OP 288\n"
     ]
    }
   ],
   "source": [
    "rows: list[smartsheet.models.row.Row] = sheet.rows\n",
    "files: list[Attachment] = []\n",
    "\n",
    "\n",
    "for row in rows:\n",
    "    # print(row)\n",
    "    op_number = get_cell_by_column_name(row, \"OP elsz.sorszám\").display_value\n",
    "    ready_state = get_cell_by_column_name(row, \"Ready\")\n",
    "    primary = get_cell_by_column_name(row, \"Primary Column\")\n",
    "    receipt_number = get_cell_by_column_name(row, \"Kifizetés bizonylata\").display_value\n",
    "\n",
    "    if ready_state.value != \"Green\":\n",
    "        continue\n",
    "\n",
    "    if receipt_number is not None and not receipt_number.startswith(\"P\"):\n",
    "        final_receipt_filename = f\"{op_number}_b_{receipt_number}.pdf\"\n",
    "        found = False\n",
    "\n",
    "        for receipt_file in receipt_pdf_files:\n",
    "            if fnmatch.fnmatch(receipt_file, f\"{receipt_number}_*.pdf\"):\n",
    "                # shutil.copy(f'{bank_route}/{receipt_file}', f'{temp_route}/{final_receipt_filename}')\n",
    "                shutil.copy(\n",
    "                    os.path.join(cwd, bank_route, receipt_file),\n",
    "                    os.path.join(cwd, temp_route, final_receipt_filename),\n",
    "                )\n",
    "                found = True\n",
    "                break\n",
    "\n",
    "        print(f'Receipt \"{receipt_number}\" not found for OP {op_number}')\n",
    "\n",
    "    for att in row.attachments:\n",
    "        final_name = f\"{op_number}__{att.name}\"\n",
    "        files.append(Attachment(final_name, att.name, att, download_url=None))"
   ]
  },
  {
   "cell_type": "code",
   "execution_count": 22,
   "metadata": {},
   "outputs": [],
   "source": [
    "for file in files:\n",
    "    data: smartsheet.models.Attachment = smart.Attachments.get_attachment(\n",
    "        sheet_id=sheet_id, attachment_id=file.attachment.id\n",
    "    )\n",
    "    file.download_url = data.url\n",
    "    urlretrieve(data.url, os.path.join(cwd, temp_route, file.final_name))"
   ]
  },
  {
   "cell_type": "code",
   "execution_count": 23,
   "metadata": {},
   "outputs": [],
   "source": [
    "from pypdf import PdfWriter\n",
    "\n",
    "# Step 1: List all PDF files in the directory\n",
    "receipt_pdf_files = [file for file in os.listdir(temp_route) if file.endswith(\".pdf\")]\n",
    "\n",
    "# Step 2: Group files by the prefix before the underscore\n",
    "pdf_groups: dict[str, list[str]] = {}\n",
    "\n",
    "for file in receipt_pdf_files:\n",
    "    prefix = file.split(\"_\")[0]\n",
    "    if prefix in pdf_groups:\n",
    "        pdf_groups[prefix].append(file)\n",
    "    else:\n",
    "        pdf_groups[prefix] = [file]\n",
    "\n",
    "# Step 3: Merge PDFs for each group\n",
    "for prefix, files in pdf_groups.items():\n",
    "    merger = PdfWriter()\n",
    "    sorted_files = sorted(files)\n",
    "    for file in files:\n",
    "        merger.append(os.path.join(cwd, temp_route, file))\n",
    "    output_filename = os.path.join(cwd, merged_route, f\"{prefix}_merged.pdf\")\n",
    "    merger.write(output_filename)\n",
    "    merger.close()"
   ]
  },
  {
   "cell_type": "code",
   "execution_count": 15,
   "metadata": {},
   "outputs": [
    {
     "name": "stdout",
     "output_type": "stream",
     "text": [
      "HUN011.pdf\n",
      "HUN036LeadershipSupervision202401.pdf\n",
      "HUN288.pdf\n"
     ]
    }
   ],
   "source": [
    "import pandas as pd\n",
    "\n",
    "df = pd.read_excel(os.path.join(cwd, xlsx_name))\n",
    "\n",
    "final_files = os.listdir(os.path.join(cwd, merged_route))\n",
    "\n",
    "for file in final_files:\n",
    "    prefix = int(file.split(\"_\")[0])\n",
    "    if prefix not in df['Document No.'].values:\n",
    "        print(f\"OP {prefix} not found in the Excel file.\")\n",
    "        continue\n",
    "    row = df.loc[df['Document No.'] == prefix].iloc[0]\n",
    "    suffix = '' if str(row['Filename']) == 'nan' else row['Filename']\n",
    "    final_filename = f\"{row['Country Code']}{str(row['Document No.']).zfill(3)}{suffix}.pdf\"\n",
    "    print(final_filename)\n",
    "\n",
    "    shutil.copy(\n",
    "        os.path.join(cwd, merged_route, file),\n",
    "        os.path.join(cwd, final_route, final_filename),\n",
    "    )"
   ]
  }
 ],
 "metadata": {
  "kernelspec": {
   "display_name": ".venv",
   "language": "python",
   "name": "python3"
  },
  "language_info": {
   "codemirror_mode": {
    "name": "ipython",
    "version": 3
   },
   "file_extension": ".py",
   "mimetype": "text/x-python",
   "name": "python",
   "nbconvert_exporter": "python",
   "pygments_lexer": "ipython3",
   "version": "3.12.4"
  }
 },
 "nbformat": 4,
 "nbformat_minor": 2
}
